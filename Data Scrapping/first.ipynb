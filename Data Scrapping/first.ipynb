{
 "cells": [
  {
   "cell_type": "code",
   "execution_count": 1,
   "id": "390114c8",
   "metadata": {},
   "outputs": [],
   "source": [
    "from bs4 import BeautifulSoup\n"
   ]
  },
  {
   "cell_type": "code",
   "execution_count": 4,
   "id": "d781d0e5",
   "metadata": {},
   "outputs": [
    {
     "name": "stdout",
     "output_type": "stream",
     "text": [
      "<!DOCTYPE html>\n",
      "<html lang=\"en\">\n",
      " <head>\n",
      "  <meta charset=\"utf-8\"/>\n",
      "  <meta content=\"IE=edge\" http-equiv=\"X-UA-Compatible\"/>\n",
      "  <meta content=\"width=device-width, initial-scale=1.0\" name=\"viewport\"/>\n",
      "  <title>\n",
      "   Document\n",
      "  </title>\n",
      " </head>\n",
      " <body>\n",
      "  <h1>\n",
      "   Hello, Start Learning!\n",
      "  </h1>\n",
      "  <div>\n",
      "   <h3>\n",
      "    Data Storytelling Project\n",
      "   </h3>\n",
      "  </div>\n",
      "  <div>\n",
      "   <p>\n",
      "    In this lesson, you will build a project by scraping data from the web using python libraries.\n",
      "    <br/>\n",
      "    Your project will contain a storytelling report and code implementation that shows how the data is obtained, analysed and processed.\n",
      "   </p>\n",
      "  </div>\n",
      "  <div>\n",
      "   <p>\n",
      "    After completion of the assessment, you are required to submit your project using the Google Form below\n",
      "   </p>\n",
      "  </div>\n",
      "  <div>\n",
      "   <a href=\"https://docs.google.com/forms/d/e/1FAIpQLSdSih45s2FpB_Rodlejt5aKLkE7H5-WbGLmXr8fG8GwL6x5Hg/viewform\">\n",
      "   </a>\n",
      "  </div>\n",
      "  <section>\n",
      "  </section>\n",
      " </body>\n",
      "</html>\n"
     ]
    }
   ],
   "source": [
    "with open('index.html', 'r') as html_file:\n",
    "    content = BeautifulSoup(html_file, 'html.parser')\n",
    "    print(content.prettify())"
   ]
  },
  {
   "cell_type": "code",
   "execution_count": 7,
   "id": "bd4303ce",
   "metadata": {},
   "outputs": [
    {
     "name": "stdout",
     "output_type": "stream",
     "text": [
      "Hello\n"
     ]
    }
   ],
   "source": [
    "tag = content.title\n",
    "\n",
    "tag.string = 'Hello'\n",
    "\n",
    "print(tag.string)"
   ]
  },
  {
   "cell_type": "code",
   "execution_count": 13,
   "id": "944ad338",
   "metadata": {},
   "outputs": [
    {
     "name": "stdout",
     "output_type": "stream",
     "text": [
      "<p>\n",
      "            In this lesson, you will build a project by scraping data from the web using python libraries. <br/> Your project will contain a storytelling report and code implementation that shows how the data is obtained, analysed and processed.\n",
      "        </p>\n"
     ]
    }
   ],
   "source": [
    "tags = content.find_all('p')[0]\n",
    "\n",
    "\n",
    "print(tags)"
   ]
  },
  {
   "cell_type": "code",
   "execution_count": null,
   "id": "bfda2fd4",
   "metadata": {},
   "outputs": [],
   "source": []
  }
 ],
 "metadata": {
  "kernelspec": {
   "display_name": "Python 3",
   "language": "python",
   "name": "python3"
  },
  "language_info": {
   "codemirror_mode": {
    "name": "ipython",
    "version": 3
   },
   "file_extension": ".py",
   "mimetype": "text/x-python",
   "name": "python",
   "nbconvert_exporter": "python",
   "pygments_lexer": "ipython3",
   "version": "3.8.8"
  }
 },
 "nbformat": 4,
 "nbformat_minor": 5
}
